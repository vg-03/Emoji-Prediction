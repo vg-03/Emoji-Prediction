{
 "cells": [
  {
   "cell_type": "markdown",
   "metadata": {},
   "source": [
    "# Emoji Prediction"
   ]
  },
  {
   "cell_type": "code",
   "execution_count": 1,
   "metadata": {},
   "outputs": [
    {
     "name": "stdout",
     "output_type": "stream",
     "text": [
      "Collecting emoji\n",
      "  Downloading emoji-0.6.0.tar.gz (51 kB)\n",
      "Building wheels for collected packages: emoji\n",
      "  Building wheel for emoji (setup.py): started\n",
      "  Building wheel for emoji (setup.py): finished with status 'done'\n",
      "  Created wheel for emoji: filename=emoji-0.6.0-py3-none-any.whl size=49720 sha256=0ad201bbeca25008c55b5a9c28c648c75987d6ba4e351afa09c8b5b040b53414\n",
      "  Stored in directory: c:\\users\\hp\\appdata\\local\\pip\\cache\\wheels\\43\\3d\\82\\e7baffa5e86346c6178d7750dba6e8ef063282a37fc563f8f8\n",
      "Successfully built emoji\n",
      "Installing collected packages: emoji\n",
      "Successfully installed emoji-0.6.0\n"
     ]
    },
    {
     "name": "stderr",
     "output_type": "stream",
     "text": [
      "WARNING: You are using pip version 20.2.3; however, version 20.2.4 is available.\n",
      "You should consider upgrading via the 'c:\\users\\hp\\appdata\\local\\programs\\python\\python38\\python.exe -m pip install --upgrade pip' command.\n"
     ]
    }
   ],
   "source": [
    "!pip install emoji"
   ]
  },
  {
   "cell_type": "code",
   "execution_count": 2,
   "metadata": {},
   "outputs": [],
   "source": [
    "import numpy as np\n",
    "import pandas as pd\n"
   ]
  },
  {
   "cell_type": "code",
   "execution_count": 4,
   "metadata": {},
   "outputs": [],
   "source": [
    "train = pd.read_csv('train_emoji.csv',header=None)\n",
    "test = pd.read_csv('test_emoji.csv',header=None)"
   ]
  },
  {
   "cell_type": "code",
   "execution_count": 5,
   "metadata": {},
   "outputs": [
    {
     "data": {
      "text/html": [
       "<div>\n",
       "<style scoped>\n",
       "    .dataframe tbody tr th:only-of-type {\n",
       "        vertical-align: middle;\n",
       "    }\n",
       "\n",
       "    .dataframe tbody tr th {\n",
       "        vertical-align: top;\n",
       "    }\n",
       "\n",
       "    .dataframe thead th {\n",
       "        text-align: right;\n",
       "    }\n",
       "</style>\n",
       "<table border=\"1\" class=\"dataframe\">\n",
       "  <thead>\n",
       "    <tr style=\"text-align: right;\">\n",
       "      <th></th>\n",
       "      <th>0</th>\n",
       "      <th>1</th>\n",
       "      <th>2</th>\n",
       "      <th>3</th>\n",
       "    </tr>\n",
       "  </thead>\n",
       "  <tbody>\n",
       "    <tr>\n",
       "      <th>0</th>\n",
       "      <td>never talk to me again</td>\n",
       "      <td>3</td>\n",
       "      <td>NaN</td>\n",
       "      <td>NaN</td>\n",
       "    </tr>\n",
       "    <tr>\n",
       "      <th>1</th>\n",
       "      <td>I am proud of your achievements</td>\n",
       "      <td>2</td>\n",
       "      <td>NaN</td>\n",
       "      <td>NaN</td>\n",
       "    </tr>\n",
       "    <tr>\n",
       "      <th>2</th>\n",
       "      <td>It is the worst day in my life</td>\n",
       "      <td>3</td>\n",
       "      <td>NaN</td>\n",
       "      <td>NaN</td>\n",
       "    </tr>\n",
       "    <tr>\n",
       "      <th>3</th>\n",
       "      <td>Miss you so much</td>\n",
       "      <td>0</td>\n",
       "      <td>NaN</td>\n",
       "      <td>[0]</td>\n",
       "    </tr>\n",
       "    <tr>\n",
       "      <th>4</th>\n",
       "      <td>food is life</td>\n",
       "      <td>4</td>\n",
       "      <td>NaN</td>\n",
       "      <td>NaN</td>\n",
       "    </tr>\n",
       "  </tbody>\n",
       "</table>\n",
       "</div>"
      ],
      "text/plain": [
       "                                 0  1   2     3\n",
       "0           never talk to me again  3 NaN   NaN\n",
       "1  I am proud of your achievements  2 NaN   NaN\n",
       "2   It is the worst day in my life  3 NaN   NaN\n",
       "3                 Miss you so much  0 NaN   [0]\n",
       "4                     food is life  4 NaN   NaN"
      ]
     },
     "execution_count": 5,
     "metadata": {},
     "output_type": "execute_result"
    }
   ],
   "source": [
    "train.head()"
   ]
  },
  {
   "cell_type": "code",
   "execution_count": 6,
   "metadata": {},
   "outputs": [
    {
     "data": {
      "text/html": [
       "<div>\n",
       "<style scoped>\n",
       "    .dataframe tbody tr th:only-of-type {\n",
       "        vertical-align: middle;\n",
       "    }\n",
       "\n",
       "    .dataframe tbody tr th {\n",
       "        vertical-align: top;\n",
       "    }\n",
       "\n",
       "    .dataframe thead th {\n",
       "        text-align: right;\n",
       "    }\n",
       "</style>\n",
       "<table border=\"1\" class=\"dataframe\">\n",
       "  <thead>\n",
       "    <tr style=\"text-align: right;\">\n",
       "      <th></th>\n",
       "      <th>0</th>\n",
       "      <th>1</th>\n",
       "      <th>2</th>\n",
       "      <th>3</th>\n",
       "    </tr>\n",
       "  </thead>\n",
       "  <tbody>\n",
       "    <tr>\n",
       "      <th>127</th>\n",
       "      <td>he had to make a home run</td>\n",
       "      <td>1</td>\n",
       "      <td>NaN</td>\n",
       "      <td>NaN</td>\n",
       "    </tr>\n",
       "    <tr>\n",
       "      <th>128</th>\n",
       "      <td>I am ordering food</td>\n",
       "      <td>4</td>\n",
       "      <td>NaN</td>\n",
       "      <td>NaN</td>\n",
       "    </tr>\n",
       "    <tr>\n",
       "      <th>129</th>\n",
       "      <td>What is wrong with you</td>\n",
       "      <td>3</td>\n",
       "      <td>NaN</td>\n",
       "      <td>NaN</td>\n",
       "    </tr>\n",
       "    <tr>\n",
       "      <th>130</th>\n",
       "      <td>I love you</td>\n",
       "      <td>0</td>\n",
       "      <td>NaN</td>\n",
       "      <td>NaN</td>\n",
       "    </tr>\n",
       "    <tr>\n",
       "      <th>131</th>\n",
       "      <td>great job</td>\n",
       "      <td>2</td>\n",
       "      <td>NaN</td>\n",
       "      <td>NaN</td>\n",
       "    </tr>\n",
       "  </tbody>\n",
       "</table>\n",
       "</div>"
      ],
      "text/plain": [
       "                             0  1   2    3\n",
       "127  he had to make a home run  1 NaN  NaN\n",
       "128         I am ordering food  4 NaN  NaN\n",
       "129     What is wrong with you  3 NaN  NaN\n",
       "130                 I love you  0 NaN  NaN\n",
       "131                  great job  2 NaN  NaN"
      ]
     },
     "execution_count": 6,
     "metadata": {},
     "output_type": "execute_result"
    }
   ],
   "source": [
    "train.tail()"
   ]
  },
  {
   "cell_type": "code",
   "execution_count": 7,
   "metadata": {},
   "outputs": [],
   "source": [
    "import emoji as emoji"
   ]
  },
  {
   "cell_type": "code",
   "execution_count": 9,
   "metadata": {},
   "outputs": [],
   "source": [
    "#emoji.EMOJI_ALIAS_UNICODE"
   ]
  },
  {
   "cell_type": "code",
   "execution_count": 10,
   "metadata": {},
   "outputs": [],
   "source": [
    "emoji_dictionary = {\"0\": \"\\u2764\\uFE0F\",    # :heart: prints a black instead of red heart depending on the font\n",
    "                    \"1\": \":baseball:\",\n",
    "                    \"2\": \":beaming_face_with_smiling_eyes:\",\n",
    "                    \"3\": \":downcast_face_with_sweat:\",\n",
    "                    \"4\": \":fork_and_knife:\",\n",
    "                   }"
   ]
  },
  {
   "cell_type": "code",
   "execution_count": 12,
   "metadata": {},
   "outputs": [
    {
     "data": {
      "text/plain": [
       "'🍴'"
      ]
     },
     "execution_count": 12,
     "metadata": {},
     "output_type": "execute_result"
    }
   ],
   "source": [
    "emoji.emojize(\":fork_and_knife:\")"
   ]
  },
  {
   "cell_type": "code",
   "execution_count": 13,
   "metadata": {},
   "outputs": [
    {
     "name": "stdout",
     "output_type": "stream",
     "text": [
      "❤️\n",
      "⚾\n",
      "😁\n",
      "😓\n",
      "🍴\n"
     ]
    }
   ],
   "source": [
    "for e in emoji_dictionary.values():\n",
    "    print(emoji.emojize(e))"
   ]
  },
  {
   "cell_type": "code",
   "execution_count": 14,
   "metadata": {},
   "outputs": [
    {
     "name": "stdout",
     "output_type": "stream",
     "text": [
      "never talk to me again 😓\n",
      "I am proud of your achievements 😁\n",
      "It is the worst day in my life 😓\n",
      "Miss you so much ❤️\n",
      "food is life 🍴\n",
      "I love you mum ❤️\n",
      "Stop saying bullshit 😓\n",
      "congratulations on your acceptance 😁\n",
      "The assignment is too long  😓\n",
      "I want to go play ⚾\n"
     ]
    }
   ],
   "source": [
    "data = train.values\n",
    "for i in range(10):\n",
    "    print(data[i][0],emoji.emojize(emoji_dictionary[str(data[i][1])]))"
   ]
  },
  {
   "cell_type": "code",
   "execution_count": 19,
   "metadata": {},
   "outputs": [
    {
     "name": "stdout",
     "output_type": "stream",
     "text": [
      "I love my dad ❤️\n"
     ]
    }
   ],
   "source": [
    "print(data[100][0],emoji.emojize(emoji_dictionary[str(data[100][1])]))"
   ]
  },
  {
   "cell_type": "code",
   "execution_count": 20,
   "metadata": {},
   "outputs": [],
   "source": [
    "from keras.utils import to_categorical"
   ]
  },
  {
   "cell_type": "code",
   "execution_count": 21,
   "metadata": {},
   "outputs": [
    {
     "name": "stdout",
     "output_type": "stream",
     "text": [
      "(132,)\n",
      "(56,)\n",
      "(132, 5)\n",
      "(56, 5)\n"
     ]
    }
   ],
   "source": [
    "XT = train[0]\n",
    "Xt = test[0]\n",
    "\n",
    "YT = to_categorical(train[1])\n",
    "Yt = to_categorical(test[1])\n",
    "\n",
    "\n",
    "print(XT.shape)\n",
    "print(Xt.shape)\n",
    "print(YT.shape)\n",
    "print(Yt.shape)"
   ]
  },
  {
   "cell_type": "code",
   "execution_count": 26,
   "metadata": {},
   "outputs": [],
   "source": [
    "embeddings = {}\n",
    "with open('glove.6B.50d.txt',encoding='utf-8') as f:\n",
    "    for line in f:\n",
    "        values = line.split()\n",
    "        word = values[0]\n",
    "        coeffs = np.asarray(values[1:],dtype='float32')\n",
    "        \n",
    "       # print(word)\n",
    "       # print(coeffs)\n",
    "        embeddings[word] = coeffs"
   ]
  },
  {
   "cell_type": "code",
   "execution_count": 27,
   "metadata": {},
   "outputs": [],
   "source": [
    "def getOutputEmbeddings(X):\n",
    "    \n",
    "    embedding_matrix_output = np.zeros((X.shape[0],10,50))\n",
    "    for ix in range(X.shape[0]):\n",
    "        X[ix] = X[ix].split()\n",
    "        for jx in range(len(X[ix])):\n",
    "            embedding_matrix_output[ix][jx] = embeddings[X[ix][jx].lower()]\n",
    "            \n",
    "    return embedding_matrix_output"
   ]
  },
  {
   "cell_type": "code",
   "execution_count": 28,
   "metadata": {},
   "outputs": [
    {
     "name": "stderr",
     "output_type": "stream",
     "text": [
      "<ipython-input-27-73145de5bfac>:5: SettingWithCopyWarning: \n",
      "A value is trying to be set on a copy of a slice from a DataFrame\n",
      "\n",
      "See the caveats in the documentation: https://pandas.pydata.org/pandas-docs/stable/user_guide/indexing.html#returning-a-view-versus-a-copy\n",
      "  X[ix] = X[ix].split()\n"
     ]
    }
   ],
   "source": [
    "emb_XT = getOutputEmbeddings(XT)\n",
    "emb_Xt = getOutputEmbeddings(Xt)"
   ]
  },
  {
   "cell_type": "code",
   "execution_count": 29,
   "metadata": {},
   "outputs": [
    {
     "name": "stdout",
     "output_type": "stream",
     "text": [
      "(132, 10, 50)\n",
      "(56, 10, 50)\n"
     ]
    }
   ],
   "source": [
    "print(emb_XT.shape)\n",
    "print(emb_Xt.shape)\n"
   ]
  },
  {
   "cell_type": "code",
   "execution_count": 30,
   "metadata": {},
   "outputs": [],
   "source": [
    "from keras.layers import *\n",
    "from keras.models import Sequential"
   ]
  },
  {
   "cell_type": "code",
   "execution_count": 33,
   "metadata": {},
   "outputs": [
    {
     "name": "stdout",
     "output_type": "stream",
     "text": [
      "Model: \"sequential_1\"\n",
      "_________________________________________________________________\n",
      "Layer (type)                 Output Shape              Param #   \n",
      "=================================================================\n",
      "lstm_2 (LSTM)                (None, 10, 64)            29440     \n",
      "_________________________________________________________________\n",
      "dropout_2 (Dropout)          (None, 10, 64)            0         \n",
      "_________________________________________________________________\n",
      "lstm_3 (LSTM)                (None, 64)                33024     \n",
      "_________________________________________________________________\n",
      "dropout_3 (Dropout)          (None, 64)                0         \n",
      "_________________________________________________________________\n",
      "dense_1 (Dense)              (None, 5)                 325       \n",
      "_________________________________________________________________\n",
      "activation_1 (Activation)    (None, 5)                 0         \n",
      "=================================================================\n",
      "Total params: 62,789\n",
      "Trainable params: 62,789\n",
      "Non-trainable params: 0\n",
      "_________________________________________________________________\n"
     ]
    }
   ],
   "source": [
    "model = Sequential()\n",
    "model.add(LSTM(64,input_shape=(10,50),return_sequences=True))\n",
    "model.add(Dropout(0.4))\n",
    "model.add(LSTM(64,input_shape=(10,50)))\n",
    "model.add(Dropout(0.3))\n",
    "model.add(Dense(5))\n",
    "model.add(Activation('softmax'))\n",
    "model.summary()"
   ]
  },
  {
   "cell_type": "code",
   "execution_count": 34,
   "metadata": {},
   "outputs": [
    {
     "name": "stdout",
     "output_type": "stream",
     "text": [
      "Epoch 1/40\n",
      "4/4 [==============================] - 1s 210ms/step - loss: 1.5966 - acc: 0.2288 - val_loss: 1.6126 - val_acc: 0.0714\n",
      "Epoch 2/40\n",
      "4/4 [==============================] - 0s 10ms/step - loss: 1.5348 - acc: 0.3136 - val_loss: 1.6160 - val_acc: 0.0714\n",
      "Epoch 3/40\n",
      "4/4 [==============================] - 0s 9ms/step - loss: 1.4762 - acc: 0.3814 - val_loss: 1.6078 - val_acc: 0.2857\n",
      "Epoch 4/40\n",
      "4/4 [==============================] - 0s 9ms/step - loss: 1.4233 - acc: 0.4407 - val_loss: 1.5865 - val_acc: 0.2857\n",
      "Epoch 5/40\n",
      "4/4 [==============================] - 0s 9ms/step - loss: 1.3650 - acc: 0.4237 - val_loss: 1.5195 - val_acc: 0.2857\n",
      "Epoch 6/40\n",
      "4/4 [==============================] - 0s 11ms/step - loss: 1.2979 - acc: 0.5424 - val_loss: 1.4129 - val_acc: 0.5000\n",
      "Epoch 7/40\n",
      "4/4 [==============================] - 0s 11ms/step - loss: 1.1759 - acc: 0.6186 - val_loss: 1.3756 - val_acc: 0.5000\n",
      "Epoch 8/40\n",
      "4/4 [==============================] - 0s 11ms/step - loss: 1.0876 - acc: 0.6356 - val_loss: 1.2813 - val_acc: 0.5714\n",
      "Epoch 9/40\n",
      "4/4 [==============================] - 0s 10ms/step - loss: 0.9510 - acc: 0.6949 - val_loss: 1.1723 - val_acc: 0.6429\n",
      "Epoch 10/40\n",
      "4/4 [==============================] - 0s 9ms/step - loss: 0.8456 - acc: 0.7119 - val_loss: 1.1036 - val_acc: 0.7143\n",
      "Epoch 11/40\n",
      "4/4 [==============================] - 0s 9ms/step - loss: 0.7446 - acc: 0.7627 - val_loss: 1.1737 - val_acc: 0.5714\n",
      "Epoch 12/40\n",
      "4/4 [==============================] - 0s 9ms/step - loss: 0.7654 - acc: 0.7034 - val_loss: 0.8699 - val_acc: 0.7143\n",
      "Epoch 13/40\n",
      "4/4 [==============================] - 0s 9ms/step - loss: 0.6305 - acc: 0.7797 - val_loss: 0.9973 - val_acc: 0.7143\n",
      "Epoch 14/40\n",
      "4/4 [==============================] - 0s 9ms/step - loss: 0.5300 - acc: 0.8475 - val_loss: 0.8500 - val_acc: 0.7143\n",
      "Epoch 15/40\n",
      "4/4 [==============================] - 0s 9ms/step - loss: 0.4515 - acc: 0.8814 - val_loss: 0.7712 - val_acc: 0.7143\n",
      "Epoch 16/40\n",
      "4/4 [==============================] - 0s 9ms/step - loss: 0.3980 - acc: 0.8898 - val_loss: 0.9475 - val_acc: 0.5714\n",
      "Epoch 17/40\n",
      "4/4 [==============================] - 0s 8ms/step - loss: 0.3698 - acc: 0.8814 - val_loss: 0.5993 - val_acc: 0.7143\n",
      "Epoch 18/40\n",
      "4/4 [==============================] - 0s 9ms/step - loss: 0.3379 - acc: 0.8898 - val_loss: 0.8957 - val_acc: 0.6429\n",
      "Epoch 19/40\n",
      "4/4 [==============================] - 0s 9ms/step - loss: 0.2741 - acc: 0.8898 - val_loss: 0.9075 - val_acc: 0.6429\n",
      "Epoch 20/40\n",
      "4/4 [==============================] - 0s 9ms/step - loss: 0.3235 - acc: 0.8814 - val_loss: 1.2468 - val_acc: 0.5714\n",
      "Epoch 21/40\n",
      "4/4 [==============================] - 0s 9ms/step - loss: 0.2991 - acc: 0.8729 - val_loss: 0.8246 - val_acc: 0.7143\n",
      "Epoch 22/40\n",
      "4/4 [==============================] - 0s 9ms/step - loss: 0.2436 - acc: 0.9068 - val_loss: 1.0552 - val_acc: 0.6429\n",
      "Epoch 23/40\n",
      "4/4 [==============================] - 0s 9ms/step - loss: 0.1638 - acc: 0.9492 - val_loss: 0.8999 - val_acc: 0.6429\n",
      "Epoch 24/40\n",
      "4/4 [==============================] - 0s 9ms/step - loss: 0.2004 - acc: 0.9407 - val_loss: 0.9070 - val_acc: 0.6429\n",
      "Epoch 25/40\n",
      "4/4 [==============================] - 0s 9ms/step - loss: 0.2348 - acc: 0.8983 - val_loss: 0.9238 - val_acc: 0.6429\n",
      "Epoch 26/40\n",
      "4/4 [==============================] - 0s 9ms/step - loss: 0.2124 - acc: 0.9237 - val_loss: 0.7868 - val_acc: 0.7143\n",
      "Epoch 27/40\n",
      "4/4 [==============================] - 0s 9ms/step - loss: 0.1925 - acc: 0.9153 - val_loss: 1.0199 - val_acc: 0.5714\n",
      "Epoch 28/40\n",
      "4/4 [==============================] - 0s 9ms/step - loss: 0.1421 - acc: 0.9407 - val_loss: 1.6913 - val_acc: 0.5000\n",
      "Epoch 29/40\n",
      "4/4 [==============================] - 0s 9ms/step - loss: 0.1892 - acc: 0.9407 - val_loss: 0.7415 - val_acc: 0.5714\n",
      "Epoch 30/40\n",
      "4/4 [==============================] - 0s 10ms/step - loss: 0.1739 - acc: 0.9237 - val_loss: 0.8835 - val_acc: 0.7143\n",
      "Epoch 31/40\n",
      "4/4 [==============================] - 0s 9ms/step - loss: 0.1536 - acc: 0.9322 - val_loss: 1.4812 - val_acc: 0.5714\n",
      "Epoch 32/40\n",
      "4/4 [==============================] - 0s 9ms/step - loss: 0.2043 - acc: 0.9322 - val_loss: 0.7690 - val_acc: 0.7143\n",
      "Epoch 33/40\n",
      "4/4 [==============================] - 0s 9ms/step - loss: 0.2376 - acc: 0.9153 - val_loss: 0.6669 - val_acc: 0.7857\n",
      "Epoch 34/40\n",
      "4/4 [==============================] - 0s 8ms/step - loss: 0.1153 - acc: 0.9492 - val_loss: 1.6688 - val_acc: 0.4286\n",
      "Epoch 35/40\n",
      "4/4 [==============================] - 0s 9ms/step - loss: 0.1839 - acc: 0.9322 - val_loss: 0.8568 - val_acc: 0.6429\n",
      "Epoch 36/40\n",
      "4/4 [==============================] - 0s 8ms/step - loss: 0.2242 - acc: 0.9322 - val_loss: 0.5432 - val_acc: 0.7857\n",
      "Epoch 37/40\n",
      "4/4 [==============================] - 0s 9ms/step - loss: 0.1386 - acc: 0.9661 - val_loss: 1.2852 - val_acc: 0.6429\n",
      "Epoch 38/40\n",
      "4/4 [==============================] - 0s 9ms/step - loss: 0.2004 - acc: 0.9407 - val_loss: 1.2545 - val_acc: 0.6429\n",
      "Epoch 39/40\n",
      "4/4 [==============================] - 0s 10ms/step - loss: 0.1130 - acc: 0.9576 - val_loss: 1.0719 - val_acc: 0.6429\n",
      "Epoch 40/40\n",
      "4/4 [==============================] - 0s 13ms/step - loss: 0.0807 - acc: 0.9746 - val_loss: 0.8836 - val_acc: 0.6429\n"
     ]
    },
    {
     "data": {
      "text/plain": [
       "<tensorflow.python.keras.callbacks.History at 0x256ce5de280>"
      ]
     },
     "execution_count": 34,
     "metadata": {},
     "output_type": "execute_result"
    }
   ],
   "source": [
    "model.compile(optimizer='adam',loss='categorical_crossentropy',metrics=['acc'])\n",
    "model.fit(emb_XT,YT,batch_size=32,epochs=40,shuffle=True,validation_split=0.1)"
   ]
  },
  {
   "cell_type": "code",
   "execution_count": 35,
   "metadata": {},
   "outputs": [
    {
     "name": "stdout",
     "output_type": "stream",
     "text": [
      "2/2 [==============================] - 0s 35ms/step - loss: 1.4073 - acc: 0.5893\n"
     ]
    },
    {
     "data": {
      "text/plain": [
       "[1.407334566116333, 0.5892857313156128]"
      ]
     },
     "execution_count": 35,
     "metadata": {},
     "output_type": "execute_result"
    }
   ],
   "source": [
    "model.evaluate(emb_Xt,Yt)"
   ]
  },
  {
   "cell_type": "code",
   "execution_count": 37,
   "metadata": {},
   "outputs": [
    {
     "name": "stdout",
     "output_type": "stream",
     "text": [
      "WARNING:tensorflow:From <ipython-input-37-5e5057e7dfa1>:1: Sequential.predict_classes (from tensorflow.python.keras.engine.sequential) is deprecated and will be removed after 2021-01-01.\n",
      "Instructions for updating:\n",
      "Please use instead:* `np.argmax(model.predict(x), axis=-1)`,   if your model does multi-class classification   (e.g. if it uses a `softmax` last-layer activation).* `(model.predict(x) > 0.5).astype(\"int32\")`,   if your model does binary classification   (e.g. if it uses a `sigmoid` last-layer activation).\n"
     ]
    }
   ],
   "source": [
    "pred = model.predict_classes(emb_Xt)"
   ]
  },
  {
   "cell_type": "code",
   "execution_count": 39,
   "metadata": {},
   "outputs": [
    {
     "name": "stdout",
     "output_type": "stream",
     "text": [
      "I want to eat\n",
      "🍴\n",
      "🍴\n",
      "he did not answer\n",
      "😓\n",
      "😓\n",
      "he got a raise\n",
      "😁\n",
      "😓\n",
      "she got me a present\n",
      "❤️\n",
      "😁\n",
      "ha ha ha it was so funny\n",
      "😁\n",
      "😁\n",
      "he is a good friend\n",
      "❤️\n",
      "😁\n",
      "I am upset\n",
      "❤️\n",
      "😓\n",
      "We had such a lovely dinner tonight\n",
      "❤️\n",
      "😁\n",
      "where is the food\n",
      "🍴\n",
      "🍴\n",
      "Stop making this joke ha ha ha\n",
      "😁\n",
      "😁\n",
      "where is the ball\n",
      "⚾\n",
      "⚾\n",
      "work is hard\n",
      "😓\n",
      "😁\n",
      "This girl is messing with me\n",
      "😓\n",
      "❤️\n",
      "are you serious ha ha\n",
      "😁\n",
      "❤️\n",
      "Let us go play baseball\n",
      "⚾\n",
      "⚾\n",
      "This stupid grader is not working\n",
      "😓\n",
      "😓\n",
      "work is horrible\n",
      "😓\n",
      "😁\n",
      "Congratulation for having a baby\n",
      "😁\n",
      "😁\n",
      "stop messing around\n",
      "😓\n",
      "⚾\n",
      "any suggestions for dinner\n",
      "🍴\n",
      "🍴\n",
      "I love taking breaks\n",
      "❤️\n",
      "❤️\n",
      "you brighten my day\n",
      "😁\n",
      "❤️\n",
      "I boiled rice\n",
      "🍴\n",
      "🍴\n",
      "she is a bully\n",
      "😓\n",
      "😓\n",
      "Why are you feeling bad\n",
      "😓\n",
      "😓\n",
      "I am upset\n",
      "😓\n",
      "😓\n",
      "I worked during my birthday\n",
      "😓\n",
      "😁\n",
      "My grandmother is the love of my life\n",
      "❤️\n",
      "❤️\n",
      "enjoy your break\n",
      "😁\n",
      "⚾\n",
      "valentine day is near\n",
      "❤️\n",
      "😁\n",
      "I miss you so much\n",
      "❤️\n",
      "❤️\n",
      "throw the ball\n",
      "⚾\n",
      "⚾\n",
      "My life is so boring\n",
      "😓\n",
      "❤️\n",
      "she said yes\n",
      "😁\n",
      "😁\n",
      "will you be my valentine\n",
      "❤️\n",
      "😁\n",
      "he can pitch really well\n",
      "⚾\n",
      "⚾\n",
      "dance with me\n",
      "😁\n",
      "😁\n",
      "I am starving\n",
      "🍴\n",
      "🍴\n",
      "See you at the restaurant\n",
      "🍴\n",
      "🍴\n",
      "I like to laugh\n",
      "😁\n",
      "😁\n",
      "I will go dance\n",
      "😁\n",
      "⚾\n",
      "I like your jacket\n",
      "😁\n",
      "❤️\n",
      "i miss her\n",
      "❤️\n",
      "❤️\n",
      "what is your favorite baseball game\n",
      "⚾\n",
      "⚾\n",
      "Good job\n",
      "😁\n",
      "😁\n",
      "I love to the stars and back\n",
      "❤️\n",
      "⚾\n",
      "What you did was awesome\n",
      "😁\n",
      "😁\n",
      "ha ha ha lol\n",
      "😁\n",
      "😁\n",
      "I want to joke\n",
      "😁\n",
      "😓\n",
      "go away\n",
      "😓\n",
      "⚾\n"
     ]
    }
   ],
   "source": [
    "for i in range(50):\n",
    "    print(' '.join(Xt[i]))\n",
    "    print(emoji.emojize(emoji_dictionary[str(np.argmax(Yt[i]))]))\n",
    "    print(emoji.emojize(emoji_dictionary[str(pred[i])]))"
   ]
  },
  {
   "cell_type": "code",
   "execution_count": null,
   "metadata": {},
   "outputs": [],
   "source": []
  }
 ],
 "metadata": {
  "kernelspec": {
   "display_name": "Python 3",
   "language": "python",
   "name": "python3"
  },
  "language_info": {
   "codemirror_mode": {
    "name": "ipython",
    "version": 3
   },
   "file_extension": ".py",
   "mimetype": "text/x-python",
   "name": "python",
   "nbconvert_exporter": "python",
   "pygments_lexer": "ipython3",
   "version": "3.8.5"
  }
 },
 "nbformat": 4,
 "nbformat_minor": 4
}
